{
 "cells": [
  {
   "cell_type": "code",
   "execution_count": 1,
   "metadata": {
    "colab": {
     "base_uri": "https://localhost:8080/",
     "height": 496
    },
    "id": "z1pBqAUM6GgG",
    "outputId": "ab1ae0b6-6e5c-42fd-8b5b-b8fd0152fdc8"
   },
   "outputs": [
    {
     "name": "stderr",
     "output_type": "stream",
     "text": [
      "2023-05-24 09:21:15.657276: I tensorflow/core/platform/cpu_feature_guard.cc:182] This TensorFlow binary is optimized to use available CPU instructions in performance-critical operations.\n",
      "To enable the following instructions: AVX2 FMA, in other operations, rebuild TensorFlow with the appropriate compiler flags.\n"
     ]
    },
    {
     "data": {
      "text/html": [
       "<div>\n",
       "<style scoped>\n",
       "    .dataframe tbody tr th:only-of-type {\n",
       "        vertical-align: middle;\n",
       "    }\n",
       "\n",
       "    .dataframe tbody tr th {\n",
       "        vertical-align: top;\n",
       "    }\n",
       "\n",
       "    .dataframe thead th {\n",
       "        text-align: right;\n",
       "    }\n",
       "</style>\n",
       "<table border=\"1\" class=\"dataframe\">\n",
       "  <thead>\n",
       "    <tr style=\"text-align: right;\">\n",
       "      <th></th>\n",
       "      <th>EIN</th>\n",
       "      <th>NAME</th>\n",
       "      <th>APPLICATION_TYPE</th>\n",
       "      <th>AFFILIATION</th>\n",
       "      <th>CLASSIFICATION</th>\n",
       "      <th>USE_CASE</th>\n",
       "      <th>ORGANIZATION</th>\n",
       "      <th>STATUS</th>\n",
       "      <th>INCOME_AMT</th>\n",
       "      <th>SPECIAL_CONSIDERATIONS</th>\n",
       "      <th>ASK_AMT</th>\n",
       "      <th>IS_SUCCESSFUL</th>\n",
       "    </tr>\n",
       "  </thead>\n",
       "  <tbody>\n",
       "    <tr>\n",
       "      <th>0</th>\n",
       "      <td>10520599</td>\n",
       "      <td>BLUE KNIGHTS MOTORCYCLE CLUB</td>\n",
       "      <td>T10</td>\n",
       "      <td>Independent</td>\n",
       "      <td>C1000</td>\n",
       "      <td>ProductDev</td>\n",
       "      <td>Association</td>\n",
       "      <td>1</td>\n",
       "      <td>0</td>\n",
       "      <td>N</td>\n",
       "      <td>5000</td>\n",
       "      <td>1</td>\n",
       "    </tr>\n",
       "    <tr>\n",
       "      <th>1</th>\n",
       "      <td>10531628</td>\n",
       "      <td>AMERICAN CHESAPEAKE CLUB CHARITABLE TR</td>\n",
       "      <td>T3</td>\n",
       "      <td>Independent</td>\n",
       "      <td>C2000</td>\n",
       "      <td>Preservation</td>\n",
       "      <td>Co-operative</td>\n",
       "      <td>1</td>\n",
       "      <td>1-9999</td>\n",
       "      <td>N</td>\n",
       "      <td>108590</td>\n",
       "      <td>1</td>\n",
       "    </tr>\n",
       "    <tr>\n",
       "      <th>2</th>\n",
       "      <td>10547893</td>\n",
       "      <td>ST CLOUD PROFESSIONAL FIREFIGHTERS</td>\n",
       "      <td>T5</td>\n",
       "      <td>CompanySponsored</td>\n",
       "      <td>C3000</td>\n",
       "      <td>ProductDev</td>\n",
       "      <td>Association</td>\n",
       "      <td>1</td>\n",
       "      <td>0</td>\n",
       "      <td>N</td>\n",
       "      <td>5000</td>\n",
       "      <td>0</td>\n",
       "    </tr>\n",
       "    <tr>\n",
       "      <th>3</th>\n",
       "      <td>10553066</td>\n",
       "      <td>SOUTHSIDE ATHLETIC ASSOCIATION</td>\n",
       "      <td>T3</td>\n",
       "      <td>CompanySponsored</td>\n",
       "      <td>C2000</td>\n",
       "      <td>Preservation</td>\n",
       "      <td>Trust</td>\n",
       "      <td>1</td>\n",
       "      <td>10000-24999</td>\n",
       "      <td>N</td>\n",
       "      <td>6692</td>\n",
       "      <td>1</td>\n",
       "    </tr>\n",
       "    <tr>\n",
       "      <th>4</th>\n",
       "      <td>10556103</td>\n",
       "      <td>GENETIC RESEARCH INSTITUTE OF THE DESERT</td>\n",
       "      <td>T3</td>\n",
       "      <td>Independent</td>\n",
       "      <td>C1000</td>\n",
       "      <td>Heathcare</td>\n",
       "      <td>Trust</td>\n",
       "      <td>1</td>\n",
       "      <td>100000-499999</td>\n",
       "      <td>N</td>\n",
       "      <td>142590</td>\n",
       "      <td>1</td>\n",
       "    </tr>\n",
       "  </tbody>\n",
       "</table>\n",
       "</div>"
      ],
      "text/plain": [
       "        EIN                                      NAME APPLICATION_TYPE  \\\n",
       "0  10520599              BLUE KNIGHTS MOTORCYCLE CLUB              T10   \n",
       "1  10531628    AMERICAN CHESAPEAKE CLUB CHARITABLE TR               T3   \n",
       "2  10547893        ST CLOUD PROFESSIONAL FIREFIGHTERS               T5   \n",
       "3  10553066            SOUTHSIDE ATHLETIC ASSOCIATION               T3   \n",
       "4  10556103  GENETIC RESEARCH INSTITUTE OF THE DESERT               T3   \n",
       "\n",
       "        AFFILIATION CLASSIFICATION      USE_CASE  ORGANIZATION  STATUS  \\\n",
       "0       Independent          C1000    ProductDev   Association       1   \n",
       "1       Independent          C2000  Preservation  Co-operative       1   \n",
       "2  CompanySponsored          C3000    ProductDev   Association       1   \n",
       "3  CompanySponsored          C2000  Preservation         Trust       1   \n",
       "4       Independent          C1000     Heathcare         Trust       1   \n",
       "\n",
       "      INCOME_AMT SPECIAL_CONSIDERATIONS  ASK_AMT  IS_SUCCESSFUL  \n",
       "0              0                      N     5000              1  \n",
       "1         1-9999                      N   108590              1  \n",
       "2              0                      N     5000              0  \n",
       "3    10000-24999                      N     6692              1  \n",
       "4  100000-499999                      N   142590              1  "
      ]
     },
     "execution_count": 1,
     "metadata": {},
     "output_type": "execute_result"
    }
   ],
   "source": [
    "# Import our dependencies\n",
    "from sklearn.model_selection import train_test_split\n",
    "from sklearn.preprocessing import StandardScaler\n",
    "import pandas as pd\n",
    "import tensorflow as tf\n",
    "\n",
    "#  Import and read the charity_data.csv.\n",
    "application_df = pd.read_csv(\"https://static.bc-edx.com/data/dl-1-2/m21/lms/starter/charity_data.csv\")\n",
    "application_df.head()"
   ]
  },
  {
   "cell_type": "code",
   "execution_count": 2,
   "metadata": {
    "id": "5CdDPK_69BfA"
   },
   "outputs": [],
   "source": [
    "# Drop the non-beneficial ID columns, 'EIN' and 'NAME'.\n",
    "application_df = application_df.drop(['EIN', 'NAME'], axis=1)"
   ]
  },
  {
   "cell_type": "code",
   "execution_count": 3,
   "metadata": {
    "colab": {
     "base_uri": "https://localhost:8080/"
    },
    "id": "dCCdrHtI9jok",
    "outputId": "1cf368c4-93c2-4534-afdd-7d93fa565b25"
   },
   "outputs": [
    {
     "data": {
      "text/plain": [
       "APPLICATION_TYPE            17\n",
       "AFFILIATION                  6\n",
       "CLASSIFICATION              71\n",
       "USE_CASE                     5\n",
       "ORGANIZATION                 4\n",
       "STATUS                       2\n",
       "INCOME_AMT                   9\n",
       "SPECIAL_CONSIDERATIONS       2\n",
       "ASK_AMT                   8747\n",
       "IS_SUCCESSFUL                2\n",
       "dtype: int64"
      ]
     },
     "execution_count": 3,
     "metadata": {},
     "output_type": "execute_result"
    }
   ],
   "source": [
    "# Determine the number of unique values in each column.\n",
    "unique_counts = application_df.nunique()\n",
    "unique_counts"
   ]
  },
  {
   "cell_type": "code",
   "execution_count": 4,
   "metadata": {
    "colab": {
     "base_uri": "https://localhost:8080/"
    },
    "id": "tmNH4XoyA9Ue",
    "outputId": "fad6dc5d-efa2-4cc8-8048-5e5169f26744"
   },
   "outputs": [
    {
     "data": {
      "text/plain": [
       "T3     27037\n",
       "T4      1542\n",
       "T6      1216\n",
       "T5      1173\n",
       "T19     1065\n",
       "T8       737\n",
       "T7       725\n",
       "T10      528\n",
       "T9       156\n",
       "T13       66\n",
       "T12       27\n",
       "T2        16\n",
       "T25        3\n",
       "T14        3\n",
       "T29        2\n",
       "T15        2\n",
       "T17        1\n",
       "Name: APPLICATION_TYPE, dtype: int64"
      ]
     },
     "execution_count": 4,
     "metadata": {},
     "output_type": "execute_result"
    }
   ],
   "source": [
    "# Look at APPLICATION_TYPE value counts for binning\n",
    "application_type_counts = application_df['APPLICATION_TYPE'].value_counts()\n",
    "application_type_counts"
   ]
  },
  {
   "cell_type": "code",
   "execution_count": 5,
   "metadata": {
    "colab": {
     "base_uri": "https://localhost:8080/"
    },
    "id": "NGAGeggdA-mh",
    "outputId": "4ef116ca-fb96-46ae-a469-2e9faca50f21"
   },
   "outputs": [
    {
     "data": {
      "text/plain": [
       "T3       27037\n",
       "T4        1542\n",
       "T6        1216\n",
       "T5        1173\n",
       "T19       1065\n",
       "T8         737\n",
       "T7         725\n",
       "T10        528\n",
       "Other      276\n",
       "Name: APPLICATION_TYPE, dtype: int64"
      ]
     },
     "execution_count": 5,
     "metadata": {},
     "output_type": "execute_result"
    }
   ],
   "source": [
    "# Choose a cutoff value and create a list of application types to be replaced\n",
    "# use the variable name `application_types_to_replace`\n",
    "application_types_to_replace = list(application_type_counts[application_type_counts < 500].index)\n",
    "\n",
    "# Replace in dataframe\n",
    "for app in application_types_to_replace:\n",
    "    application_df['APPLICATION_TYPE'] = application_df['APPLICATION_TYPE'].replace(app,\"Other\")\n",
    "\n",
    "# Check to make sure binning was successful\n",
    "application_df['APPLICATION_TYPE'].value_counts()"
   ]
  },
  {
   "cell_type": "code",
   "execution_count": 6,
   "metadata": {
    "id": "HS965XFGDsGM"
   },
   "outputs": [],
   "source": [
    "# Look at CLASSIFICATION value counts for binning\n",
    "classification_counts = application_df['CLASSIFICATION'].value_counts()"
   ]
  },
  {
   "cell_type": "code",
   "execution_count": 7,
   "metadata": {
    "colab": {
     "base_uri": "https://localhost:8080/"
    },
    "id": "YURx1WrzDuzE",
    "outputId": "5e8c9cbc-7c9e-47c5-dfd8-745952360f53"
   },
   "outputs": [
    {
     "data": {
      "text/plain": [
       "C1000    17326\n",
       "C2000     6074\n",
       "C1200     4837\n",
       "C3000     1918\n",
       "C2100     1883\n",
       "         ...  \n",
       "C4120        1\n",
       "C8210        1\n",
       "C2561        1\n",
       "C4500        1\n",
       "C2150        1\n",
       "Name: CLASSIFICATION, Length: 71, dtype: int64"
      ]
     },
     "execution_count": 7,
     "metadata": {},
     "output_type": "execute_result"
    }
   ],
   "source": [
    "# You may find it helpful to look at CLASSIFICATION value counts >1\n",
    "classification_counts"
   ]
  },
  {
   "cell_type": "code",
   "execution_count": 8,
   "metadata": {
    "colab": {
     "base_uri": "https://localhost:8080/"
    },
    "id": "9or7xxCeDwfq",
    "outputId": "7e094b86-8bbf-4520-bb27-a5d0264c6fde"
   },
   "outputs": [
    {
     "data": {
      "text/plain": [
       "C1000    17326\n",
       "C2000     6074\n",
       "C1200     4837\n",
       "Other     2261\n",
       "C3000     1918\n",
       "C2100     1883\n",
       "Name: CLASSIFICATION, dtype: int64"
      ]
     },
     "execution_count": 8,
     "metadata": {},
     "output_type": "execute_result"
    }
   ],
   "source": [
    "# Choose a cutoff value and create a list of classifications to be replaced\n",
    "# use the variable name `classifications_to_replace`\n",
    "classifications_to_replace = list(classification_counts[classification_counts < 1000].index)\n",
    "\n",
    "# Replace in dataframe\n",
    "for cls in classifications_to_replace:\n",
    "    application_df['CLASSIFICATION'] = application_df['CLASSIFICATION'].replace(cls,\"Other\")\n",
    "    \n",
    "# Check to make sure binning was successful\n",
    "application_df['CLASSIFICATION'].value_counts()"
   ]
  },
  {
   "cell_type": "code",
   "execution_count": 9,
   "metadata": {
    "id": "8V7qfi--Ehkd"
   },
   "outputs": [],
   "source": [
    "# Convert categorical data to numeric with `pd.get_dummies`\n",
    "numeric_df = pd.get_dummies(application_df)"
   ]
  },
  {
   "cell_type": "code",
   "execution_count": 10,
   "metadata": {
    "id": "p8u_CO5-FUNx"
   },
   "outputs": [],
   "source": [
    "# Split our preprocessed data into our features and target arrays\n",
    "X = numeric_df.drop('IS_SUCCESSFUL', axis=1).values\n",
    "y = numeric_df['IS_SUCCESSFUL'].values\n",
    "# Split the preprocessed data into a training and testing dataset\n",
    "X_train, X_test, y_train, y_test = train_test_split(X, y, random_state=78)"
   ]
  },
  {
   "cell_type": "code",
   "execution_count": 11,
   "metadata": {
    "id": "z-CarJRtFawH"
   },
   "outputs": [],
   "source": [
    "# Create a StandardScaler instances\n",
    "scaler = StandardScaler()\n",
    "\n",
    "# Fit the StandardScaler\n",
    "X_scaler = scaler.fit(X_train)\n",
    "\n",
    "# Scale the data\n",
    "X_train_scaled = X_scaler.transform(X_train)\n",
    "X_test_scaled = X_scaler.transform(X_test)"
   ]
  },
  {
   "cell_type": "code",
   "execution_count": 12,
   "metadata": {
    "id": "vzEJ8z-jFgIJ"
   },
   "outputs": [],
   "source": [
    "# Optimized Model\n",
    "optimized_model = tf.keras.models.Sequential()"
   ]
  },
  {
   "cell_type": "code",
   "execution_count": 13,
   "metadata": {
    "colab": {
     "base_uri": "https://localhost:8080/"
    },
    "id": "iAyUd5YEFnRw",
    "outputId": "7b3522ca-4da8-4a87-a296-098aa3821e89"
   },
   "outputs": [
    {
     "name": "stdout",
     "output_type": "stream",
     "text": [
      "Model: \"sequential\"\n",
      "_________________________________________________________________\n",
      " Layer (type)                Output Shape              Param #   \n",
      "=================================================================\n",
      " dense (Dense)               (None, 120)               5280      \n",
      "                                                                 \n",
      " dense_1 (Dense)             (None, 30)                3630      \n",
      "                                                                 \n",
      " dense_2 (Dense)             (None, 15)                465       \n",
      "                                                                 \n",
      " dense_3 (Dense)             (None, 1)                 16        \n",
      "                                                                 \n",
      "=================================================================\n",
      "Total params: 9,391\n",
      "Trainable params: 9,391\n",
      "Non-trainable params: 0\n",
      "_________________________________________________________________\n"
     ]
    }
   ],
   "source": [
    "# Add layers\n",
    "optimized_model.add(tf.keras.layers.Dense(units=120, activation=\"relu\", input_dim=X.shape[1]))\n",
    "optimized_model.add(tf.keras.layers.Dense(units=30, activation=\"relu\"))\n",
    "optimized_model.add(tf.keras.layers.Dense(units=15, activation=\"relu\"))\n",
    "optimized_model.add(tf.keras.layers.Dense(units=1, activation=\"sigmoid\"))\n",
    "\n",
    "optimized_model.summary()"
   ]
  },
  {
   "cell_type": "code",
   "execution_count": 14,
   "metadata": {
    "id": "ijRxf_qQIydE"
   },
   "outputs": [],
   "source": [
    "# Compile model\n",
    "optimized_model.compile(loss=\"binary_crossentropy\", optimizer=\"adam\",  metrics=['accuracy'])"
   ]
  },
  {
   "cell_type": "code",
   "execution_count": 15,
   "metadata": {
    "colab": {
     "base_uri": "https://localhost:8080/"
    },
    "id": "3_CEvwKZJRZo",
    "outputId": "37179a96-fd27-40d0-cf8b-7b7b76980402"
   },
   "outputs": [
    {
     "name": "stdout",
     "output_type": "stream",
     "text": [
      "Epoch 1/150\n",
      "804/804 - 1s - loss: 0.5718 - accuracy: 0.7201 - 1s/epoch - 2ms/step\n",
      "Epoch 2/150\n",
      "804/804 - 1s - loss: 0.5553 - accuracy: 0.7302 - 622ms/epoch - 774us/step\n",
      "Epoch 3/150\n",
      "804/804 - 1s - loss: 0.5525 - accuracy: 0.7315 - 643ms/epoch - 800us/step\n",
      "Epoch 4/150\n",
      "804/804 - 1s - loss: 0.5505 - accuracy: 0.7320 - 632ms/epoch - 787us/step\n",
      "Epoch 5/150\n",
      "804/804 - 1s - loss: 0.5495 - accuracy: 0.7325 - 634ms/epoch - 788us/step\n",
      "Epoch 6/150\n",
      "804/804 - 1s - loss: 0.5489 - accuracy: 0.7333 - 619ms/epoch - 770us/step\n",
      "Epoch 7/150\n",
      "804/804 - 1s - loss: 0.5481 - accuracy: 0.7353 - 632ms/epoch - 786us/step\n",
      "Epoch 8/150\n",
      "804/804 - 1s - loss: 0.5476 - accuracy: 0.7340 - 633ms/epoch - 787us/step\n",
      "Epoch 9/150\n",
      "804/804 - 1s - loss: 0.5464 - accuracy: 0.7363 - 610ms/epoch - 758us/step\n",
      "Epoch 10/150\n",
      "804/804 - 1s - loss: 0.5462 - accuracy: 0.7351 - 630ms/epoch - 783us/step\n",
      "Epoch 11/150\n",
      "804/804 - 1s - loss: 0.5460 - accuracy: 0.7354 - 661ms/epoch - 823us/step\n",
      "Epoch 12/150\n",
      "804/804 - 1s - loss: 0.5455 - accuracy: 0.7355 - 626ms/epoch - 779us/step\n",
      "Epoch 13/150\n",
      "804/804 - 1s - loss: 0.5443 - accuracy: 0.7365 - 733ms/epoch - 912us/step\n",
      "Epoch 14/150\n",
      "804/804 - 1s - loss: 0.5448 - accuracy: 0.7364 - 665ms/epoch - 827us/step\n",
      "Epoch 15/150\n",
      "804/804 - 1s - loss: 0.5439 - accuracy: 0.7372 - 610ms/epoch - 759us/step\n",
      "Epoch 16/150\n",
      "804/804 - 1s - loss: 0.5441 - accuracy: 0.7355 - 660ms/epoch - 820us/step\n",
      "Epoch 17/150\n",
      "804/804 - 1s - loss: 0.5432 - accuracy: 0.7372 - 650ms/epoch - 808us/step\n",
      "Epoch 18/150\n",
      "804/804 - 1s - loss: 0.5424 - accuracy: 0.7372 - 621ms/epoch - 773us/step\n",
      "Epoch 19/150\n",
      "804/804 - 1s - loss: 0.5428 - accuracy: 0.7370 - 659ms/epoch - 819us/step\n",
      "Epoch 20/150\n",
      "804/804 - 1s - loss: 0.5430 - accuracy: 0.7370 - 779ms/epoch - 969us/step\n",
      "Epoch 21/150\n",
      "804/804 - 1s - loss: 0.5427 - accuracy: 0.7379 - 874ms/epoch - 1ms/step\n",
      "Epoch 22/150\n",
      "804/804 - 1s - loss: 0.5425 - accuracy: 0.7376 - 1s/epoch - 1ms/step\n",
      "Epoch 23/150\n",
      "804/804 - 1s - loss: 0.5419 - accuracy: 0.7377 - 1s/epoch - 2ms/step\n",
      "Epoch 24/150\n",
      "804/804 - 1s - loss: 0.5417 - accuracy: 0.7381 - 1s/epoch - 2ms/step\n",
      "Epoch 25/150\n",
      "804/804 - 2s - loss: 0.5421 - accuracy: 0.7380 - 2s/epoch - 3ms/step\n",
      "Epoch 26/150\n",
      "804/804 - 2s - loss: 0.5411 - accuracy: 0.7384 - 2s/epoch - 3ms/step\n",
      "Epoch 27/150\n",
      "804/804 - 1s - loss: 0.5415 - accuracy: 0.7388 - 1s/epoch - 2ms/step\n",
      "Epoch 28/150\n",
      "804/804 - 1s - loss: 0.5409 - accuracy: 0.7391 - 760ms/epoch - 946us/step\n",
      "Epoch 29/150\n",
      "804/804 - 1s - loss: 0.5405 - accuracy: 0.7393 - 840ms/epoch - 1ms/step\n",
      "Epoch 30/150\n",
      "804/804 - 1s - loss: 0.5406 - accuracy: 0.7394 - 689ms/epoch - 857us/step\n",
      "Epoch 31/150\n",
      "804/804 - 1s - loss: 0.5400 - accuracy: 0.7390 - 703ms/epoch - 874us/step\n",
      "Epoch 32/150\n",
      "804/804 - 1s - loss: 0.5403 - accuracy: 0.7389 - 760ms/epoch - 946us/step\n",
      "Epoch 33/150\n",
      "804/804 - 1s - loss: 0.5405 - accuracy: 0.7393 - 643ms/epoch - 800us/step\n",
      "Epoch 34/150\n",
      "804/804 - 1s - loss: 0.5399 - accuracy: 0.7395 - 660ms/epoch - 820us/step\n",
      "Epoch 35/150\n",
      "804/804 - 1s - loss: 0.5397 - accuracy: 0.7392 - 674ms/epoch - 838us/step\n",
      "Epoch 36/150\n",
      "804/804 - 1s - loss: 0.5399 - accuracy: 0.7390 - 625ms/epoch - 777us/step\n",
      "Epoch 37/150\n",
      "804/804 - 1s - loss: 0.5398 - accuracy: 0.7392 - 646ms/epoch - 803us/step\n",
      "Epoch 38/150\n",
      "804/804 - 1s - loss: 0.5396 - accuracy: 0.7393 - 648ms/epoch - 806us/step\n",
      "Epoch 39/150\n",
      "804/804 - 1s - loss: 0.5395 - accuracy: 0.7395 - 635ms/epoch - 790us/step\n",
      "Epoch 40/150\n",
      "804/804 - 1s - loss: 0.5396 - accuracy: 0.7391 - 689ms/epoch - 857us/step\n",
      "Epoch 41/150\n",
      "804/804 - 1s - loss: 0.5393 - accuracy: 0.7391 - 666ms/epoch - 828us/step\n",
      "Epoch 42/150\n",
      "804/804 - 1s - loss: 0.5395 - accuracy: 0.7397 - 626ms/epoch - 778us/step\n",
      "Epoch 43/150\n",
      "804/804 - 1s - loss: 0.5388 - accuracy: 0.7389 - 631ms/epoch - 785us/step\n",
      "Epoch 44/150\n",
      "804/804 - 1s - loss: 0.5389 - accuracy: 0.7400 - 641ms/epoch - 798us/step\n",
      "Epoch 45/150\n",
      "804/804 - 1s - loss: 0.5397 - accuracy: 0.7390 - 635ms/epoch - 790us/step\n",
      "Epoch 46/150\n",
      "804/804 - 1s - loss: 0.5390 - accuracy: 0.7402 - 656ms/epoch - 816us/step\n",
      "Epoch 47/150\n",
      "804/804 - 1s - loss: 0.5391 - accuracy: 0.7395 - 663ms/epoch - 824us/step\n",
      "Epoch 48/150\n",
      "804/804 - 1s - loss: 0.5383 - accuracy: 0.7404 - 635ms/epoch - 790us/step\n",
      "Epoch 49/150\n",
      "804/804 - 1s - loss: 0.5386 - accuracy: 0.7401 - 656ms/epoch - 816us/step\n",
      "Epoch 50/150\n",
      "804/804 - 1s - loss: 0.5384 - accuracy: 0.7397 - 663ms/epoch - 825us/step\n",
      "Epoch 51/150\n",
      "804/804 - 1s - loss: 0.5383 - accuracy: 0.7394 - 645ms/epoch - 802us/step\n",
      "Epoch 52/150\n",
      "804/804 - 1s - loss: 0.5386 - accuracy: 0.7400 - 656ms/epoch - 816us/step\n",
      "Epoch 53/150\n",
      "804/804 - 1s - loss: 0.5387 - accuracy: 0.7398 - 675ms/epoch - 840us/step\n",
      "Epoch 54/150\n",
      "804/804 - 1s - loss: 0.5381 - accuracy: 0.7402 - 643ms/epoch - 799us/step\n",
      "Epoch 55/150\n",
      "804/804 - 1s - loss: 0.5382 - accuracy: 0.7399 - 665ms/epoch - 828us/step\n",
      "Epoch 56/150\n",
      "804/804 - 1s - loss: 0.5379 - accuracy: 0.7400 - 662ms/epoch - 824us/step\n",
      "Epoch 57/150\n",
      "804/804 - 1s - loss: 0.5377 - accuracy: 0.7408 - 655ms/epoch - 814us/step\n",
      "Epoch 58/150\n",
      "804/804 - 1s - loss: 0.5378 - accuracy: 0.7396 - 678ms/epoch - 844us/step\n",
      "Epoch 59/150\n",
      "804/804 - 1s - loss: 0.5378 - accuracy: 0.7404 - 761ms/epoch - 946us/step\n",
      "Epoch 60/150\n",
      "804/804 - 1s - loss: 0.5377 - accuracy: 0.7404 - 679ms/epoch - 845us/step\n",
      "Epoch 61/150\n",
      "804/804 - 1s - loss: 0.5378 - accuracy: 0.7407 - 641ms/epoch - 797us/step\n",
      "Epoch 62/150\n",
      "804/804 - 1s - loss: 0.5376 - accuracy: 0.7408 - 662ms/epoch - 823us/step\n",
      "Epoch 63/150\n",
      "804/804 - 1s - loss: 0.5373 - accuracy: 0.7407 - 823ms/epoch - 1ms/step\n",
      "Epoch 64/150\n",
      "804/804 - 1s - loss: 0.5374 - accuracy: 0.7408 - 832ms/epoch - 1ms/step\n",
      "Epoch 65/150\n",
      "804/804 - 1s - loss: 0.5376 - accuracy: 0.7402 - 666ms/epoch - 828us/step\n",
      "Epoch 66/150\n",
      "804/804 - 1s - loss: 0.5372 - accuracy: 0.7407 - 830ms/epoch - 1ms/step\n",
      "Epoch 67/150\n",
      "804/804 - 1s - loss: 0.5370 - accuracy: 0.7410 - 1s/epoch - 1ms/step\n",
      "Epoch 68/150\n",
      "804/804 - 1s - loss: 0.5372 - accuracy: 0.7399 - 754ms/epoch - 938us/step\n",
      "Epoch 69/150\n",
      "804/804 - 1s - loss: 0.5370 - accuracy: 0.7404 - 717ms/epoch - 892us/step\n",
      "Epoch 70/150\n",
      "804/804 - 1s - loss: 0.5371 - accuracy: 0.7406 - 697ms/epoch - 867us/step\n",
      "Epoch 71/150\n",
      "804/804 - 1s - loss: 0.5377 - accuracy: 0.7401 - 653ms/epoch - 812us/step\n",
      "Epoch 72/150\n",
      "804/804 - 1s - loss: 0.5369 - accuracy: 0.7387 - 676ms/epoch - 841us/step\n",
      "Epoch 73/150\n",
      "804/804 - 1s - loss: 0.5370 - accuracy: 0.7404 - 683ms/epoch - 849us/step\n",
      "Epoch 74/150\n",
      "804/804 - 1s - loss: 0.5367 - accuracy: 0.7399 - 675ms/epoch - 839us/step\n",
      "Epoch 75/150\n",
      "804/804 - 1s - loss: 0.5367 - accuracy: 0.7401 - 615ms/epoch - 764us/step\n",
      "Epoch 76/150\n",
      "804/804 - 1s - loss: 0.5367 - accuracy: 0.7407 - 597ms/epoch - 742us/step\n",
      "Epoch 77/150\n",
      "804/804 - 1s - loss: 0.5362 - accuracy: 0.7407 - 819ms/epoch - 1ms/step\n",
      "Epoch 78/150\n",
      "804/804 - 1s - loss: 0.5363 - accuracy: 0.7402 - 701ms/epoch - 872us/step\n",
      "Epoch 79/150\n",
      "804/804 - 1s - loss: 0.5361 - accuracy: 0.7406 - 1s/epoch - 1ms/step\n",
      "Epoch 80/150\n",
      "804/804 - 1s - loss: 0.5363 - accuracy: 0.7408 - 691ms/epoch - 860us/step\n",
      "Epoch 81/150\n",
      "804/804 - 1s - loss: 0.5364 - accuracy: 0.7415 - 642ms/epoch - 799us/step\n",
      "Epoch 82/150\n",
      "804/804 - 1s - loss: 0.5364 - accuracy: 0.7406 - 682ms/epoch - 848us/step\n",
      "Epoch 83/150\n",
      "804/804 - 1s - loss: 0.5361 - accuracy: 0.7404 - 712ms/epoch - 886us/step\n",
      "Epoch 84/150\n",
      "804/804 - 1s - loss: 0.5359 - accuracy: 0.7413 - 824ms/epoch - 1ms/step\n",
      "Epoch 85/150\n",
      "804/804 - 1s - loss: 0.5360 - accuracy: 0.7409 - 685ms/epoch - 852us/step\n",
      "Epoch 86/150\n",
      "804/804 - 1s - loss: 0.5364 - accuracy: 0.7413 - 754ms/epoch - 938us/step\n",
      "Epoch 87/150\n",
      "804/804 - 1s - loss: 0.5364 - accuracy: 0.7404 - 645ms/epoch - 803us/step\n",
      "Epoch 88/150\n",
      "804/804 - 1s - loss: 0.5360 - accuracy: 0.7409 - 713ms/epoch - 887us/step\n",
      "Epoch 89/150\n",
      "804/804 - 1s - loss: 0.5360 - accuracy: 0.7405 - 684ms/epoch - 851us/step\n",
      "Epoch 90/150\n",
      "804/804 - 1s - loss: 0.5357 - accuracy: 0.7407 - 621ms/epoch - 772us/step\n",
      "Epoch 91/150\n",
      "804/804 - 1s - loss: 0.5361 - accuracy: 0.7411 - 613ms/epoch - 763us/step\n",
      "Epoch 92/150\n",
      "804/804 - 1s - loss: 0.5357 - accuracy: 0.7412 - 593ms/epoch - 738us/step\n",
      "Epoch 93/150\n",
      "804/804 - 1s - loss: 0.5356 - accuracy: 0.7411 - 629ms/epoch - 782us/step\n",
      "Epoch 94/150\n",
      "804/804 - 1s - loss: 0.5360 - accuracy: 0.7408 - 715ms/epoch - 890us/step\n",
      "Epoch 95/150\n",
      "804/804 - 1s - loss: 0.5355 - accuracy: 0.7413 - 615ms/epoch - 765us/step\n"
     ]
    },
    {
     "name": "stdout",
     "output_type": "stream",
     "text": [
      "Epoch 96/150\n",
      "804/804 - 1s - loss: 0.5356 - accuracy: 0.7410 - 598ms/epoch - 744us/step\n",
      "Epoch 97/150\n",
      "804/804 - 1s - loss: 0.5349 - accuracy: 0.7406 - 638ms/epoch - 793us/step\n",
      "Epoch 98/150\n",
      "804/804 - 1s - loss: 0.5363 - accuracy: 0.7414 - 733ms/epoch - 912us/step\n",
      "Epoch 99/150\n",
      "804/804 - 1s - loss: 0.5357 - accuracy: 0.7416 - 675ms/epoch - 840us/step\n",
      "Epoch 100/150\n",
      "804/804 - 1s - loss: 0.5349 - accuracy: 0.7416 - 587ms/epoch - 730us/step\n",
      "Epoch 101/150\n",
      "804/804 - 1s - loss: 0.5349 - accuracy: 0.7416 - 605ms/epoch - 753us/step\n",
      "Epoch 102/150\n",
      "804/804 - 1s - loss: 0.5348 - accuracy: 0.7413 - 587ms/epoch - 730us/step\n",
      "Epoch 103/150\n",
      "804/804 - 1s - loss: 0.5348 - accuracy: 0.7414 - 591ms/epoch - 735us/step\n",
      "Epoch 104/150\n",
      "804/804 - 1s - loss: 0.5351 - accuracy: 0.7415 - 588ms/epoch - 732us/step\n",
      "Epoch 105/150\n",
      "804/804 - 1s - loss: 0.5353 - accuracy: 0.7414 - 595ms/epoch - 740us/step\n",
      "Epoch 106/150\n",
      "804/804 - 1s - loss: 0.5349 - accuracy: 0.7412 - 588ms/epoch - 732us/step\n",
      "Epoch 107/150\n",
      "804/804 - 1s - loss: 0.5352 - accuracy: 0.7411 - 611ms/epoch - 759us/step\n",
      "Epoch 108/150\n",
      "804/804 - 1s - loss: 0.5353 - accuracy: 0.7412 - 592ms/epoch - 736us/step\n",
      "Epoch 109/150\n",
      "804/804 - 1s - loss: 0.5350 - accuracy: 0.7407 - 609ms/epoch - 757us/step\n",
      "Epoch 110/150\n",
      "804/804 - 1s - loss: 0.5350 - accuracy: 0.7409 - 607ms/epoch - 755us/step\n",
      "Epoch 111/150\n",
      "804/804 - 1s - loss: 0.5346 - accuracy: 0.7406 - 606ms/epoch - 754us/step\n",
      "Epoch 112/150\n",
      "804/804 - 1s - loss: 0.5351 - accuracy: 0.7408 - 598ms/epoch - 744us/step\n",
      "Epoch 113/150\n",
      "804/804 - 1s - loss: 0.5347 - accuracy: 0.7403 - 588ms/epoch - 732us/step\n",
      "Epoch 114/150\n",
      "804/804 - 1s - loss: 0.5347 - accuracy: 0.7398 - 585ms/epoch - 728us/step\n",
      "Epoch 115/150\n",
      "804/804 - 1s - loss: 0.5348 - accuracy: 0.7402 - 699ms/epoch - 869us/step\n",
      "Epoch 116/150\n",
      "804/804 - 1s - loss: 0.5350 - accuracy: 0.7408 - 603ms/epoch - 750us/step\n",
      "Epoch 117/150\n",
      "804/804 - 1s - loss: 0.5347 - accuracy: 0.7412 - 584ms/epoch - 726us/step\n",
      "Epoch 118/150\n",
      "804/804 - 1s - loss: 0.5346 - accuracy: 0.7407 - 596ms/epoch - 741us/step\n",
      "Epoch 119/150\n",
      "804/804 - 1s - loss: 0.5347 - accuracy: 0.7409 - 654ms/epoch - 814us/step\n",
      "Epoch 120/150\n",
      "804/804 - 1s - loss: 0.5347 - accuracy: 0.7408 - 653ms/epoch - 813us/step\n",
      "Epoch 121/150\n",
      "804/804 - 1s - loss: 0.5344 - accuracy: 0.7410 - 610ms/epoch - 759us/step\n",
      "Epoch 122/150\n",
      "804/804 - 1s - loss: 0.5347 - accuracy: 0.7420 - 691ms/epoch - 859us/step\n",
      "Epoch 123/150\n",
      "804/804 - 1s - loss: 0.5352 - accuracy: 0.7407 - 639ms/epoch - 794us/step\n",
      "Epoch 124/150\n",
      "804/804 - 1s - loss: 0.5341 - accuracy: 0.7407 - 620ms/epoch - 771us/step\n",
      "Epoch 125/150\n",
      "804/804 - 1s - loss: 0.5344 - accuracy: 0.7414 - 731ms/epoch - 909us/step\n",
      "Epoch 126/150\n",
      "804/804 - 1s - loss: 0.5343 - accuracy: 0.7409 - 640ms/epoch - 796us/step\n",
      "Epoch 127/150\n",
      "804/804 - 1s - loss: 0.5342 - accuracy: 0.7407 - 604ms/epoch - 751us/step\n",
      "Epoch 128/150\n",
      "804/804 - 1s - loss: 0.5341 - accuracy: 0.7409 - 660ms/epoch - 821us/step\n",
      "Epoch 129/150\n",
      "804/804 - 1s - loss: 0.5342 - accuracy: 0.7412 - 646ms/epoch - 804us/step\n",
      "Epoch 130/150\n",
      "804/804 - 1s - loss: 0.5346 - accuracy: 0.7413 - 660ms/epoch - 820us/step\n",
      "Epoch 131/150\n",
      "804/804 - 1s - loss: 0.5339 - accuracy: 0.7418 - 644ms/epoch - 801us/step\n",
      "Epoch 132/150\n",
      "804/804 - 1s - loss: 0.5340 - accuracy: 0.7406 - 599ms/epoch - 745us/step\n",
      "Epoch 133/150\n",
      "804/804 - 1s - loss: 0.5341 - accuracy: 0.7410 - 588ms/epoch - 731us/step\n",
      "Epoch 134/150\n",
      "804/804 - 1s - loss: 0.5346 - accuracy: 0.7412 - 600ms/epoch - 746us/step\n",
      "Epoch 135/150\n",
      "804/804 - 1s - loss: 0.5339 - accuracy: 0.7411 - 606ms/epoch - 754us/step\n",
      "Epoch 136/150\n",
      "804/804 - 1s - loss: 0.5339 - accuracy: 0.7413 - 609ms/epoch - 757us/step\n",
      "Epoch 137/150\n",
      "804/804 - 1s - loss: 0.5341 - accuracy: 0.7413 - 586ms/epoch - 729us/step\n",
      "Epoch 138/150\n",
      "804/804 - 1s - loss: 0.5340 - accuracy: 0.7403 - 602ms/epoch - 749us/step\n",
      "Epoch 139/150\n",
      "804/804 - 1s - loss: 0.5333 - accuracy: 0.7414 - 624ms/epoch - 776us/step\n",
      "Epoch 140/150\n",
      "804/804 - 1s - loss: 0.5338 - accuracy: 0.7418 - 588ms/epoch - 731us/step\n",
      "Epoch 141/150\n",
      "804/804 - 1s - loss: 0.5349 - accuracy: 0.7413 - 606ms/epoch - 754us/step\n",
      "Epoch 142/150\n",
      "804/804 - 1s - loss: 0.5339 - accuracy: 0.7419 - 609ms/epoch - 758us/step\n",
      "Epoch 143/150\n",
      "804/804 - 1s - loss: 0.5339 - accuracy: 0.7421 - 595ms/epoch - 740us/step\n",
      "Epoch 144/150\n",
      "804/804 - 1s - loss: 0.5338 - accuracy: 0.7404 - 597ms/epoch - 743us/step\n",
      "Epoch 145/150\n",
      "804/804 - 1s - loss: 0.5337 - accuracy: 0.7411 - 579ms/epoch - 721us/step\n",
      "Epoch 146/150\n",
      "804/804 - 1s - loss: 0.5349 - accuracy: 0.7409 - 589ms/epoch - 732us/step\n",
      "Epoch 147/150\n",
      "804/804 - 1s - loss: 0.5337 - accuracy: 0.7417 - 586ms/epoch - 729us/step\n",
      "Epoch 148/150\n",
      "804/804 - 1s - loss: 0.5339 - accuracy: 0.7411 - 579ms/epoch - 720us/step\n",
      "Epoch 149/150\n",
      "804/804 - 1s - loss: 0.5336 - accuracy: 0.7417 - 586ms/epoch - 728us/step\n",
      "Epoch 150/150\n",
      "804/804 - 1s - loss: 0.5336 - accuracy: 0.7419 - 587ms/epoch - 730us/step\n"
     ]
    },
    {
     "data": {
      "text/plain": [
       "<keras.callbacks.History at 0x7fde719987c0>"
      ]
     },
     "execution_count": 15,
     "metadata": {},
     "output_type": "execute_result"
    }
   ],
   "source": [
    "# Train model\n",
    "optimized_model.fit(X_train_scaled, y_train, epochs=150, shuffle=True, verbose=2)"
   ]
  },
  {
   "cell_type": "code",
   "execution_count": 16,
   "metadata": {
    "colab": {
     "base_uri": "https://localhost:8080/"
    },
    "id": "fkkLkR6sq0-I",
    "outputId": "d5692234-dc42-41b6-e989-e2ab69942428"
   },
   "outputs": [
    {
     "name": "stdout",
     "output_type": "stream",
     "text": [
      "268/268 - 0s - loss: 0.5607 - accuracy: 0.7252 - 283ms/epoch - 1ms/step\n",
      "Loss: 0.5606889724731445, Accuracy: 0.7252478003501892\n"
     ]
    }
   ],
   "source": [
    "# Evaluate the model using the test data\n",
    "model_loss, model_accuracy = optimized_model.evaluate(X_test_scaled, y_test, verbose=2)\n",
    "print(f\"Loss: {model_loss}, Accuracy: {model_accuracy}\")"
   ]
  },
  {
   "cell_type": "code",
   "execution_count": 17,
   "metadata": {
    "id": "fgT5Fn3mraGV"
   },
   "outputs": [],
   "source": [
    "# Export optimized model to HDF5 file\n",
    "optimized_model.save(\"AlphabetSoupCharity_Optimization.h5\")"
   ]
  },
  {
   "cell_type": "code",
   "execution_count": null,
   "metadata": {},
   "outputs": [],
   "source": []
  }
 ],
 "metadata": {
  "colab": {
   "provenance": []
  },
  "kernelspec": {
   "display_name": "jfk",
   "language": "python",
   "name": "jfk"
  },
  "language_info": {
   "codemirror_mode": {
    "name": "ipython",
    "version": 3
   },
   "file_extension": ".py",
   "mimetype": "text/x-python",
   "name": "python",
   "nbconvert_exporter": "python",
   "pygments_lexer": "ipython3",
   "version": "3.9.16"
  }
 },
 "nbformat": 4,
 "nbformat_minor": 1
}
